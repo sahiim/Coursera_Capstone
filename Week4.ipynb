{
 "cells": [
  {
   "cell_type": "markdown",
   "metadata": {},
   "source": [
    "# A description of the problem and a discussion of the background."
   ]
  },
  {
   "attachments": {},
   "cell_type": "markdown",
   "metadata": {},
   "source": [
    "The problem I try to answer is \"what is the recommended location for a new cafe in Paris\". Suppose that a young entrepreneur wants to start his bussiness and he want to begin with a cafe. \n",
    "- Should he place his cafe in a place where there are a lot of existing cafes or in a place where there is none or should he try to find some kind of balance between these two extremes? \n",
    "- What is secret of a successful cafe? Can we get some tips or information based on the data provided by foursquare?"
   ]
  },
  {
   "cell_type": "markdown",
   "metadata": {},
   "source": [
    "# A description of the data and how it will be used to solve the problem. "
   ]
  },
  {
   "attachments": {},
   "cell_type": "markdown",
   "metadata": {},
   "source": [
    "To answer at this question, we have to : \n",
    "-\tFind the high rating cafe in Paris and identify them visually on a map.\n",
    "-\tCreate several \"clusters\" of these cafes to identfiy potential districts to choose from. (We should choose one from these business district and locate his cafe in the center of it.) \n",
    "For the problem two, researcher will collect the tips (customer reviews) for the cafe in that area and filter three types of tips : high ratings, low ratings and long comments because these tips will more likely include heeds for providing better services for the customers."
   ]
  },
  {
   "cell_type": "code",
   "execution_count": null,
   "metadata": {},
   "outputs": [],
   "source": []
  }
 ],
 "metadata": {
  "kernelspec": {
   "display_name": "Python 3",
   "language": "python",
   "name": "python3"
  },
  "language_info": {
   "codemirror_mode": {
    "name": "ipython",
    "version": 3
   },
   "file_extension": ".py",
   "mimetype": "text/x-python",
   "name": "python",
   "nbconvert_exporter": "python",
   "pygments_lexer": "ipython3",
   "version": "3.6.5"
  }
 },
 "nbformat": 4,
 "nbformat_minor": 2
}
